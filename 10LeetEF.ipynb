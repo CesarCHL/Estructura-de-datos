{
  "nbformat": 4,
  "nbformat_minor": 0,
  "metadata": {
    "colab": {
      "provenance": [],
      "toc_visible": true,
      "authorship_tag": "ABX9TyOYIX66t3HsKuRx6NkgMVU0",
      "include_colab_link": true
    },
    "kernelspec": {
      "name": "python3",
      "display_name": "Python 3"
    },
    "language_info": {
      "name": "python"
    }
  },
  "cells": [
    {
      "cell_type": "markdown",
      "metadata": {
        "id": "view-in-github",
        "colab_type": "text"
      },
      "source": [
        "<a href=\"https://colab.research.google.com/github/CesarCHL/Estructura-de-datos/blob/main/10LeetEF.ipynb\" target=\"_parent\"><img src=\"https://colab.research.google.com/assets/colab-badge.svg\" alt=\"Open In Colab\"/></a>"
      ]
    },
    {
      "cell_type": "code",
      "execution_count": 1,
      "metadata": {
        "id": "r7TqyRyNiHI6"
      },
      "outputs": [],
      "source": [
        "def twoSum_bruteforce(nums, target):\n",
        "    \"\"\"\n",
        "    Busca todos los pares posibles hasta encontrar la suma objetivo\n",
        "    \"\"\"\n",
        "    for i in range(len(nums)):\n",
        "        for j in range(i + 1, len(nums)):\n",
        "            if nums[i] + nums[j] == target:\n",
        "                return [i, j]\n",
        "    return []\n"
      ]
    },
    {
      "cell_type": "markdown",
      "source": [
        "El codigo hace 2 iteraciones para hacer una comparacion entre todos los numeros hasta que encuentra su match. La complejidad es de O(n^2)."
      ],
      "metadata": {
        "id": "rFy-Mij8ixjo"
      }
    },
    {
      "cell_type": "code",
      "source": [
        "def twoSum_optimized(nums, target):\n",
        "    \"\"\"\n",
        "    Usa hash map para buscar el complemento en O(1)\n",
        "    \"\"\"\n",
        "    hashmap = {}\n",
        "    for i, num in enumerate(nums):\n",
        "        complement = target - num\n",
        "        if complement in hashmap:\n",
        "            return [hashmap[complement], i]\n",
        "        hashmap[num] = i\n",
        "    return []"
      ],
      "metadata": {
        "id": "0BYJ_wymiyTY"
      },
      "execution_count": 3,
      "outputs": []
    },
    {
      "cell_type": "markdown",
      "source": [
        "El codigo usa va iterando sobre la lista y guardando los valores con un indice en un hash map para no tener comparar todos los numero hasta encontrar un match. Si hay un numero que haga match en el hash, nos regresa el los indices de los numeros que hacen match. Tiene complejidad de O(n)."
      ],
      "metadata": {
        "id": "Jq5pEA-jjOZA"
      }
    },
    {
      "cell_type": "code",
      "source": [
        "def isPalindrome_bruteforce(s):\n",
        "  \"\"\"\n",
        "  Invierte la cadena usando slicingy compara con la cadena original.\n",
        "  \"\"\"\n",
        "  s = s.lower().replace(\" \", \"\")\n",
        "  return s == s[::-1]"
      ],
      "metadata": {
        "id": "BoLd5DLtmKja"
      },
      "execution_count": null,
      "outputs": []
    },
    {
      "cell_type": "markdown",
      "source": [
        "Primero, convierte toda la cadena a minúsculas y elimina los espacios en blanco. Luego, invierte la cadena y la compara con la original modificada. Si ambas son iguales, significa que es un palíndromo y devuelve True. Si no, devuelve False.\n",
        "\n",
        "Tiene una complejidad de tiempo de O(n), donde n es la longitud de la cadena, ya que invertir la cadena toma un tiempo proporcional a su longitud."
      ],
      "metadata": {
        "id": "1SFaC9EwmLyi"
      }
    },
    {
      "cell_type": "code",
      "source": [
        "def isPalindrome_optimized(s):\n",
        "  \"\"\"\n",
        "  Verifica si una cadena es un palíndromo usando dos punteros.\n",
        "  Compara caracteres desde el principio y el final de la cadena, moviéndose hacia adentro.\n",
        "  \"\"\"\n",
        "  s = s.lower().replace(\" \", \"\") # Basic preprocessing\n",
        "  left, right = 0, len(s) - 1\n",
        "  while left < right:\n",
        "    if s[left] != s[right]:\n",
        "      return False\n",
        "    left += 1\n",
        "    right -= 1\n",
        "  return True"
      ],
      "metadata": {
        "id": "IdedlNukl8QZ"
      },
      "execution_count": null,
      "outputs": []
    },
    {
      "cell_type": "markdown",
      "source": [
        "la cadena se convierte a minúsculas y se le quitan los espacios en blanco. Luego, se usan dos punteros: uno (left) empieza al inicio de la cadena y el otro (right) al final. El código va comparando los caracteres en esas dos posiciones. Si en algún momento los caracteres no coinciden, significa que no es un palíndromo y devuelve False inmediatamente. Si los caracteres coinciden, los punteros se mueven hacia el centro de la cadena (uno avanza, el otro retrocede).\n",
        "Este proceso continúa hasta que los punteros se encuentran o se cruzan. Si llega hasta el final sin encontrar caracteres que no coincidan, entonces la cadena es un palíndromo y devuelve True.\n",
        "\n",
        "Tiene una complejidad de tiempo de O(n)."
      ],
      "metadata": {
        "id": "NbqiYUncm5wT"
      }
    },
    {
      "cell_type": "code",
      "source": [
        "def romanToInt_bruteforce(s):\n",
        "    \"\"\"\n",
        "    Procesa cada carácter individualmente con múltiples condiciones\n",
        "    \"\"\"\n",
        "    roman_map = {'I': 1, 'V': 5, 'X': 10, 'L': 50, 'C': 100, 'D': 500, 'M': 1000}\n",
        "    result = 0\n",
        "    i = 0\n",
        "\n",
        "    while i < len(s):\n",
        "        if i < len(s) - 1:\n",
        "            if s[i] == 'I' and s[i+1] in ['V', 'X']:\n",
        "                if s[i+1] == 'V':\n",
        "                    result += 4\n",
        "                else:\n",
        "                    result += 9\n",
        "                i += 2\n",
        "                continue\n",
        "            elif s[i] == 'X' and s[i+1] in ['L', 'C']:\n",
        "                if s[i+1] == 'L':\n",
        "                    result += 40\n",
        "                else:\n",
        "                    result += 90\n",
        "                i += 2\n",
        "                continue\n",
        "            elif s[i] == 'C' and s[i+1] in ['D', 'M']:\n",
        "                if s[i+1] == 'D':\n",
        "                    result += 400\n",
        "                else:\n",
        "                    result += 900\n",
        "                i += 2\n",
        "                continue\n",
        "\n",
        "        result += roman_map[s[i]]\n",
        "        i += 1\n",
        "\n",
        "    return result"
      ],
      "metadata": {
        "id": "MnlzW7AhooFE"
      },
      "execution_count": null,
      "outputs": []
    },
    {
      "cell_type": "markdown",
      "source": [
        "Tiene un roman_map que es como un diccionario con el valor numérico de cada símbolo romano (I, V, X, etc.).\n",
        "Va recorriendo la cadena de números romanos carácter por carácter.\n",
        "La clave de este método es que tiene varios if anidados para manejar los casos especiales donde un número romano pequeño es antes que uno grande (por ejemplo, \"IV\" es 4, no 1 + 5). Si encuentra una de estas combinaciones (como 'IV', 'IX', 'XL', 'XC', 'CD', 'CM'), suma el valor combinado (4, 9, 40, etc.) y salta dos caracteres.\n",
        "Si no es un caso especial de sustracción, simplemente suma el valor del carácter romano actual.\n",
        "La complejidad de tiempo de este algoritmo es de O(n)"
      ],
      "metadata": {
        "id": "Y6Vz0K1kozhP"
      }
    },
    {
      "cell_type": "code",
      "source": [
        "def romanToInt_optimized(s):\n",
        "    \"\"\"\n",
        "    Usa la regla: si el valor actual es menor que el siguiente, se resta\n",
        "    \"\"\"\n",
        "    roman_map = {'I': 1, 'V': 5, 'X': 10, 'L': 50, 'C': 100, 'D': 500, 'M': 1000}\n",
        "    result = 0\n",
        "\n",
        "    for i in range(len(s)):\n",
        "        # Si el valor actual es menor que el siguiente, se resta\n",
        "        if i < len(s) - 1 and roman_map[s[i]] < roman_map[s[i + 1]]:\n",
        "            result -= roman_map[s[i]]\n",
        "        else:\n",
        "            result += roman_map[s[i]]\n",
        "\n",
        "    return result\n"
      ],
      "metadata": {
        "id": "zvapiyA6pLF9"
      },
      "execution_count": null,
      "outputs": []
    },
    {
      "cell_type": "markdown",
      "source": [
        "Utiliza un roman_map para guardar el valor de cada símbolo romano. La clave de esta optimización es una regla simple: si el valor del símbolo actual es menor que el valor del siguiente símbolo, se resta; de lo contrario, se suma. Por ejemplo, en \"IV\", cuando el código ve \"I\" (1) y luego \"V\" (5), como 1 es menor que 5, resta 1. Luego, cuando suma 5 (por la \"V\"), el resultado final es 4.\n",
        "\n",
        "La complejidad de tiempo de este algoritmo es O(n)"
      ],
      "metadata": {
        "id": "jbfQtZsQpSZ4"
      }
    },
    {
      "cell_type": "code",
      "source": [
        "def isValidParenthesis_bruteforce(s):\n",
        "    \"\"\"\n",
        "    Elimina pares válidos repetidamente hasta que no queden más\n",
        "    \"\"\"\n",
        "    while '()' in s or '[]' in s or '{}' in s:\n",
        "        s = s.replace('()', '').replace('[]', '').replace('{}', '')\n",
        "    return s == ''"
      ],
      "metadata": {
        "id": "kmTjWXlqpZpc"
      },
      "execution_count": null,
      "outputs": []
    },
    {
      "cell_type": "markdown",
      "source": [
        "Este código verifica si una cadena tiene los paréntesis, corchetes y llaves bien cerrados y anidados. Repetidamente elimina los pares válidos que encuentra ((), [], {}) de la cadena. Si al final de este proceso la cadena queda vacía, significa que todos los símbolos estaban correctamente emparejados y devuelve True; de lo contrario, devuelve False.\n",
        "\n",
        "Su complejidad de tiempo es O(n2)."
      ],
      "metadata": {
        "id": "4Tw6gO8sqnLu"
      }
    },
    {
      "cell_type": "code",
      "source": [
        "def isValidParenthesis_optimized(s):\n",
        "    \"\"\"\n",
        "    Usa stack para hacer seguimiento de paréntesis abiertos\n",
        "    \"\"\"\n",
        "    stack = []\n",
        "    mapping = {')': '(', '}': '{', ']': '['}\n",
        "\n",
        "    for char in s:\n",
        "        if char in mapping:\n",
        "            if not stack or stack.pop() != mapping[char]:\n",
        "                return False\n",
        "        else:\n",
        "            stack.append(char)\n",
        "\n",
        "    return len(stack) == 0"
      ],
      "metadata": {
        "id": "3PMgePSspeH0"
      },
      "execution_count": null,
      "outputs": []
    },
    {
      "cell_type": "markdown",
      "source": [
        "Recorre cada carácter de la cadena. Si encuentra un paréntesis de apertura ((, [, {), lo guarda en la pila. Si encuentra un paréntesis de cierre (), ], }), verifica dos cosas:\n",
        "\n",
        "Si la pila está vacía, significa que no hay un paréntesis de apertura correspondiente, por lo que la cadena no es válida.\n",
        "Si la pila no está vacía, saca el último paréntesis de apertura de la pila y comprueba si coincide con el de cierre actual. Si no coinciden, la cadena no es válida.\n",
        "Si al terminar de recorrer la cadena la pila está vacía, significa que todos los paréntesis de apertura encontraron su cierre correspondiente, y la cadena es válida.\n",
        "\n",
        "La complejidad de tiempo de este algoritmo es O(n)."
      ],
      "metadata": {
        "id": "nHiMDzEhrCCE"
      }
    },
    {
      "cell_type": "code",
      "source": [
        "class ListNode:\n",
        "    def __init__(self, val=0, next=None):\n",
        "        self.val = val\n",
        "        self.next = next\n",
        "\n",
        "def mergeTwoLists_bruteforce(list1, list2):\n",
        "    \"\"\"\n",
        "    Recolecta todos los valores, los ordena y crea nueva lista\n",
        "    \"\"\"\n",
        "    values = []\n",
        "\n",
        "    current = list1\n",
        "    while current:\n",
        "        values.append(current.val)\n",
        "        current = current.next\n",
        "\n",
        "    current = list2\n",
        "    while current:\n",
        "        values.append(current.val)\n",
        "        current = current.next\n",
        "\n",
        "    values.sort()\n",
        "\n",
        "    if not values:\n",
        "        return None\n",
        "\n",
        "    head = ListNode(values[0])\n",
        "    current = head\n",
        "    for i in range(1, len(values)):\n",
        "        current.next = ListNode(values[i])\n",
        "        current = current.next\n",
        "\n",
        "    return head"
      ],
      "metadata": {
        "id": "DI7VZHkAph_A"
      },
      "execution_count": null,
      "outputs": []
    },
    {
      "cell_type": "markdown",
      "source": [
        "Recoge todos los valores de ambas listas en una lista normal. Luego, ordena esta lista de valores. Finalmente, construye una nueva lista enlazada a partir de los valores ya ordenados.\n",
        "\n",
        "La complejidad de tiempo es O(n+m)"
      ],
      "metadata": {
        "id": "WyFrLysbrRZ0"
      }
    },
    {
      "cell_type": "code",
      "source": [
        "def mergeTwoLists_optimized(list1, list2):\n",
        "    \"\"\"\n",
        "    Fusiona las listas in-place usando dos punteros\n",
        "    \"\"\"\n",
        "    dummy = ListNode(0)\n",
        "    current = dummy\n",
        "\n",
        "    while list1 and list2:\n",
        "        if list1.val <= list2.val:\n",
        "            current.next = list1\n",
        "            list1 = list1.next\n",
        "        else:\n",
        "            current.next = list2\n",
        "            list2 = list2.next\n",
        "        current = current.next\n",
        "\n",
        "    current.next = list1 or list2\n",
        "\n",
        "    return dummy.next\n"
      ],
      "metadata": {
        "id": "ac9EwIrapk_s"
      },
      "execution_count": null,
      "outputs": []
    },
    {
      "cell_type": "markdown",
      "source": [
        "Crea un nodo dummy que sirve como punto de partida para la nueva lista combinada. Luego, usa un puntero \"current\" para construir esta nueva lista. Recorre ambas listas originales al mismo tiempo, comparando los valores de los nodos actuales de list1 y list2. Siempre añade el nodo con el valor más pequeño a la lista combinada y avanza ese puntero específico. Una vez que una de las listas se vacía, simplemente añade el resto de la otra lista al final de la lista combinada.\n",
        "\n",
        "La complejidad de tiempo es O(n+m)"
      ],
      "metadata": {
        "id": "qf3E1daGrgXo"
      }
    },
    {
      "cell_type": "code",
      "source": [
        "def removeDuplicates_bruteforce(nums):\n",
        "    \"\"\"\n",
        "    Usa set para eliminar duplicados y luego modifica el array original\n",
        "    \"\"\"\n",
        "    if not nums:\n",
        "        return 0\n",
        "\n",
        "    unique_nums = []\n",
        "    seen = set()\n",
        "\n",
        "    for num in nums:\n",
        "        if num not in seen:\n",
        "            unique_nums.append(num)\n",
        "            seen.add(num)\n",
        "\n",
        "    for i in range(len(unique_nums)):\n",
        "        nums[i] = unique_nums[i]\n",
        "\n",
        "    return len(unique_nums)\n"
      ],
      "metadata": {
        "id": "4NgstUZZp5VV"
      },
      "execution_count": null,
      "outputs": []
    },
    {
      "cell_type": "markdown",
      "source": [
        "Crea una lista nueva (unique_nums) y un set (seen) para llevar un registro de los números ya vistos. Recorre el array original; si un número no ha sido visto antes, lo añade a unique_nums y al seen set. Al final, modifica el array original con los elementos únicos y devuelve su longitud.\n",
        "\n",
        "La complejidad de tiempo es O(n)"
      ],
      "metadata": {
        "id": "H4P04fUPryGn"
      }
    },
    {
      "cell_type": "code",
      "source": [
        "def removeDuplicates_optimized(nums):\n",
        "    \"\"\"\n",
        "    Usa técnica de dos punteros para modificar in-place\n",
        "    \"\"\"\n",
        "    if not nums:\n",
        "        return 0\n",
        "\n",
        "    write_index = 1\n",
        "\n",
        "    for read_index in range(1, len(nums)):\n",
        "        if nums[read_index] != nums[read_index - 1]:\n",
        "            nums[write_index] = nums[read_index]\n",
        "            write_index += 1\n",
        "\n",
        "    return write_index"
      ],
      "metadata": {
        "id": "HR4RoBI_p71H"
      },
      "execution_count": null,
      "outputs": []
    },
    {
      "cell_type": "markdown",
      "source": [
        "Utiliza dos punteros, read_index recorre el array completo, buscando elementos.\n",
        "write_index indica la posición donde se debe escribir el siguiente elemento único.\n",
        "Comienza con write_index en 1. Recorre el array desde el segundo elemento (read_index). Si el elemento actual (nums[read_index]) es diferente al elemento anterior (nums[read_index - 1]), significa que es un elemento único, por lo que lo copia a la posición write_index y luego incrementa write_index. De esta forma, los elementos únicos se van reescribiendo al principio del array.\n",
        "\n",
        "La complejidad de tiempo es O(n)"
      ],
      "metadata": {
        "id": "Mc0y-zV4rxpw"
      }
    },
    {
      "cell_type": "code",
      "source": [
        "def searchInsert_bruteforce(nums, target):\n",
        "    \"\"\"\n",
        "    Busca linealmente la posición correcta\n",
        "    \"\"\"\n",
        "    for i in range(len(nums)):\n",
        "        if nums[i] >= target:\n",
        "            return i\n",
        "    return len(nums)"
      ],
      "metadata": {
        "id": "kfAMdH1np--A"
      },
      "execution_count": null,
      "outputs": []
    },
    {
      "cell_type": "markdown",
      "source": [
        "Recorre el array desde el principio. Cuando encuentra un número que es mayor o igual al target, devuelve el índice de ese número. Si llega al final del array y no encuentra un número así, significa que el target es el más grande y debe insertarse al final, por lo que devuelve la longitud del array.\n",
        "\n",
        "La complejidad de tiempo es O(n)"
      ],
      "metadata": {
        "id": "DI8BoFwbsNRX"
      }
    },
    {
      "cell_type": "code",
      "source": [
        "def searchInsert_optimized(nums, target):\n",
        "    \"\"\"\n",
        "    Usa búsqueda binaria para encontrar la posición\n",
        "    \"\"\"\n",
        "    left, right = 0, len(nums) - 1\n",
        "\n",
        "    while left <= right:\n",
        "        mid = (left + right) // 2\n",
        "        if nums[mid] == target:\n",
        "            return mid\n",
        "        elif nums[mid] < target:\n",
        "            left = mid + 1\n",
        "        else:\n",
        "            right = mid - 1\n",
        "\n",
        "    return left"
      ],
      "metadata": {
        "id": "iXD1DqAQp_aJ"
      },
      "execution_count": null,
      "outputs": []
    },
    {
      "cell_type": "markdown",
      "source": [
        "Funciona manteniendo dos punteros, left y right, que definen el rango de búsqueda en el array. En cada paso:\n",
        "\n",
        "Calcula el punto medio (mid).\n",
        "Si el valor en mid es igual al target, devuelve mid.\n",
        "Si el valor en mid es menor que el target, ajusta left para buscar en la mitad derecha.\n",
        "Si el valor en mid es mayor que el target, ajusta right para buscar en la mitad izquierda.\n",
        "Este proceso divide el rango de búsqueda a la mitad en cada paso, hasta que left sea mayor que right. En ese punto, left contendrá la posición correcta donde debería insertarse el target.\n",
        "\n",
        "La complejidad de tiempo es O(logn)"
      ],
      "metadata": {
        "id": "eXV5tOFtsTET"
      }
    },
    {
      "cell_type": "code",
      "source": [
        "def lengthOfLastWord_bruteforce(s):\n",
        "    \"\"\"\n",
        "    Divide el string en palabras y toma la última\n",
        "    \"\"\"\n",
        "    words = s.split()\n",
        "    return len(words[-1]) if words else 0"
      ],
      "metadata": {
        "id": "3P_IQiiHp_cd"
      },
      "execution_count": null,
      "outputs": []
    },
    {
      "cell_type": "markdown",
      "source": [
        "Utiliza split() para dividir la cadena en una lista de palabras eliminando automaticamente los espacios. Luego, toma la última palabra de esa lista (words[-1]) y devuelve su longitud. Si la cadena está vacía o solo contiene espacios, devuelve 0.\n",
        "\n",
        "La complejidad de tiempo es O(n)"
      ],
      "metadata": {
        "id": "Z7LcliaIsjWv"
      }
    },
    {
      "cell_type": "code",
      "source": [
        "def lengthOfLastWord_optimized(s):\n",
        "    \"\"\"\n",
        "    Recorre desde el final contando caracteres de la última palabra\n",
        "    \"\"\"\n",
        "    length = 0\n",
        "    i = len(s) - 1\n",
        "\n",
        "    while i >= 0 and s[i] == ' ':\n",
        "        i -= 1\n",
        "\n",
        "    while i >= 0 and s[i] != ' ':\n",
        "        length += 1\n",
        "        i -= 1\n",
        "\n",
        "    return length"
      ],
      "metadata": {
        "id": "Srurd_u_p_fH"
      },
      "execution_count": null,
      "outputs": []
    },
    {
      "cell_type": "markdown",
      "source": [
        "Recorre la cadena desde el final hacia el principio. Primero, salta cualquier espacio en blanco que encuentre al final de la cadena. Una vez que llega al primer carácter que no es un espacio, comienza a contar la longitud de la palabra. Continúa contando hasta que encuentra otro espacio o llega al principio de la cadena.\n",
        "\n",
        "La complejidad de tiempo es O(n)"
      ],
      "metadata": {
        "id": "WBaNao_FsvsU"
      }
    },
    {
      "cell_type": "code",
      "source": [
        "def plusOne_bruteforce(digits):\n",
        "    \"\"\"\n",
        "    Convierte a entero, suma 1 y convierte de vuelta a array\n",
        "    \"\"\"\n",
        "    # Convertir array a número\n",
        "    num = 0\n",
        "    for digit in digits:\n",
        "        num = num * 10 + digit\n",
        "    num += 1\n",
        "    # Convertir de vuelta a array\n",
        "    result = []\n",
        "    while num > 0:\n",
        "        result.append(num % 10)\n",
        "        num //= 10\n",
        "\n",
        "    return result[::-1]"
      ],
      "metadata": {
        "id": "XEtHU5Pdp_hx"
      },
      "execution_count": null,
      "outputs": []
    },
    {
      "cell_type": "markdown",
      "source": [
        "Convierte el array de dígitos en un solo número entero. Luego, le suma 1 a ese número. Finalmente, convierte el número resultante de vuelta a un array de dígitos.\n",
        "\n",
        "La complejidad de tiempo es O(n)"
      ],
      "metadata": {
        "id": "AQP5QaKRs54t"
      }
    },
    {
      "cell_type": "code",
      "source": [
        "def plusOne_optimized(digits):\n",
        "    \"\"\"\n",
        "    Simula suma manual desde el dígito menos significativo\n",
        "    \"\"\"\n",
        "    for i in range(len(digits) - 1, -1, -1):\n",
        "        if digits[i] < 9:\n",
        "            digits[i] += 1\n",
        "            return digits\n",
        "        digits[i] = 0\n",
        "\n",
        "    # Si llegamos aquí, todos eran 9s, necesitamos un dígito extra\n",
        "    return [1] + digits"
      ],
      "metadata": {
        "id": "uFQZW3fJp_kF"
      },
      "execution_count": null,
      "outputs": []
    },
    {
      "cell_type": "markdown",
      "source": [
        "Simula el proceso de suma manual que hacemos en papel, empezando por el ultimo numero del array y moviéndose hacia la izquierda.\n",
        "\n",
        "Si el dígito actual es menor que 9, simplemente le suma 1 y devuelve el array, ya que la suma terminó ahí.\n",
        "Si el dígito actual es 9, lo cambia a 0 (porque hay un \"acarreo\" a la siguiente posición) y continúa el bucle para procesar el dígito anterior.\n",
        "Si el bucle termina y aún hay un acarreo (es decir, todos los dígitos originales eran 9, como [9, 9, 9]), significa que se necesita un dígito extra al principio (por ejemplo, [1, 0, 0, 0]). En ese caso, inserta un 1 al principio del array.\n",
        "\n",
        "La complejidad de tiempo es O(n)"
      ],
      "metadata": {
        "id": "LR8mfzAxtFGa"
      }
    },
    {
      "cell_type": "code",
      "source": [
        "def climbStairs_bruteforce(n):\n",
        "    \"\"\"\n",
        "    Recursión pura - explora todas las posibilidades\n",
        "    \"\"\"\n",
        "    if n <= 1:\n",
        "        return 1\n",
        "    return climbStairs_bruteforce(n - 1) + climbStairs_bruteforce(n - 2)\n"
      ],
      "metadata": {
        "id": "l25eBN6Dp_mv"
      },
      "execution_count": null,
      "outputs": []
    },
    {
      "cell_type": "markdown",
      "source": [
        "Para encontrar el número de formas de subir n escalones, se suman las formas de subir n-1 escalones (si el último paso fue de 1) y las formas de subir n-2 escalones (si el último paso fue de 2). Los casos base son 1 o 0 escalones, que solo tienen 1 forma (no hacer nada o dar un paso).\n",
        "\n",
        "Esta solución es muy ineficiente porque recalcula los mismos valores una y otra vez. Su complejidad de tiempo es O(2\n",
        "n\n",
        " )"
      ],
      "metadata": {
        "id": "OnSNaSj0tO9l"
      }
    },
    {
      "cell_type": "code",
      "source": [
        "def climbStairs_optimized(n):\n",
        "    \"\"\"\n",
        "    Programación dinámica con espacio optimizado (Fibonacci)\n",
        "    \"\"\"\n",
        "    if n <= 1:\n",
        "        return 1\n",
        "\n",
        "    prev2 = 1\n",
        "    prev1 = 1\n",
        "\n",
        "    for i in range(2, n + 1):\n",
        "        current = prev1 + prev2\n",
        "        prev2 = prev1\n",
        "        prev1 = current\n",
        "\n",
        "    return prev1"
      ],
      "metadata": {
        "id": "VwC-dKKKqN8p"
      },
      "execution_count": null,
      "outputs": []
    },
    {
      "cell_type": "markdown",
      "source": [
        "Almacena los resultados de los subproblemas más pequeños para usarlos en los más grandes. Se basa en la observación de que el número de formas de subir n escalones es la suma de las formas de subir n-1 y n-2 escalones. Mantiene solo las dos últimas cantidades (prev1 y prev2) y las actualiza en cada paso del bucle.\n",
        "\n",
        "La complejidad de tiempo es O(n)"
      ],
      "metadata": {
        "id": "h1pGknCxtYag"
      }
    }
  ]
}